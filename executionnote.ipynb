{
 "cells": [
  {
   "cell_type": "markdown",
   "metadata": {},
   "source": [
    "Master's Project - Douglas Fiório Dias - Execution of scripts"
   ]
  },
  {
   "cell_type": "markdown",
   "metadata": {},
   "source": [
    "Required libraries"
   ]
  },
  {
   "cell_type": "code",
   "execution_count": 10,
   "metadata": {},
   "outputs": [
    {
     "name": "stdout",
     "output_type": "stream",
     "text": [
      "Requirement already satisfied: tensorboardX in c:\\users\\usuariolocal\\.conda\\envs\\testemestrdouglas\\lib\\site-packages (2.6.2.2)Note: you may need to restart the kernel to use updated packages.\n",
      "\n",
      "Requirement already satisfied: numpy in c:\\users\\usuariolocal\\.conda\\envs\\testemestrdouglas\\lib\\site-packages (from tensorboardX) (1.26.4)\n",
      "Requirement already satisfied: packaging in c:\\users\\usuariolocal\\.conda\\envs\\testemestrdouglas\\lib\\site-packages (from tensorboardX) (24.0)\n",
      "Requirement already satisfied: protobuf>=3.20 in c:\\users\\usuariolocal\\.conda\\envs\\testemestrdouglas\\lib\\site-packages (from tensorboardX) (4.25.3)\n"
     ]
    },
    {
     "name": "stderr",
     "output_type": "stream",
     "text": [
      "\n",
      "[notice] A new release of pip is available: 23.3.1 -> 24.0\n",
      "[notice] To update, run: python.exe -m pip install --upgrade pip\n"
     ]
    },
    {
     "name": "stdout",
     "output_type": "stream",
     "text": [
      "Looking in indexes: https://download.pytorch.org/whl/cu118\n",
      "Requirement already satisfied: torch in c:\\users\\usuariolocal\\.conda\\envs\\testemestrdouglas\\lib\\site-packages (2.2.1+cu118)\n",
      "Requirement already satisfied: torchvision in c:\\users\\usuariolocal\\.conda\\envs\\testemestrdouglas\\lib\\site-packages (0.17.1+cu118)\n",
      "Requirement already satisfied: torchaudio in c:\\users\\usuariolocal\\.conda\\envs\\testemestrdouglas\\lib\\site-packages (2.2.1+cu118)\n",
      "Requirement already satisfied: filelock in c:\\users\\usuariolocal\\.conda\\envs\\testemestrdouglas\\lib\\site-packages (from torch) (3.9.0)\n",
      "Requirement already satisfied: typing-extensions>=4.8.0 in c:\\users\\usuariolocal\\.conda\\envs\\testemestrdouglas\\lib\\site-packages (from torch) (4.10.0)\n",
      "Requirement already satisfied: sympy in c:\\users\\usuariolocal\\.conda\\envs\\testemestrdouglas\\lib\\site-packages (from torch) (1.12)\n",
      "Requirement already satisfied: networkx in c:\\users\\usuariolocal\\.conda\\envs\\testemestrdouglas\\lib\\site-packages (from torch) (3.2.1)\n",
      "Requirement already satisfied: jinja2 in c:\\users\\usuariolocal\\.conda\\envs\\testemestrdouglas\\lib\\site-packages (from torch) (3.1.2)\n",
      "Requirement already satisfied: fsspec in c:\\users\\usuariolocal\\.conda\\envs\\testemestrdouglas\\lib\\site-packages (from torch) (2024.2.0)\n",
      "Requirement already satisfied: numpy in c:\\users\\usuariolocal\\.conda\\envs\\testemestrdouglas\\lib\\site-packages (from torchvision) (1.26.4)\n",
      "Requirement already satisfied: pillow!=8.3.*,>=5.3.0 in c:\\users\\usuariolocal\\appdata\\roaming\\python\\python310\\site-packages (from torchvision) (10.1.0)\n",
      "Requirement already satisfied: MarkupSafe>=2.0 in c:\\users\\usuariolocal\\.conda\\envs\\testemestrdouglas\\lib\\site-packages (from jinja2->torch) (2.1.3)\n",
      "Requirement already satisfied: mpmath>=0.19 in c:\\users\\usuariolocal\\.conda\\envs\\testemestrdouglas\\lib\\site-packages (from sympy->torch) (1.3.0)\n",
      "Note: you may need to restart the kernel to use updated packages.\n"
     ]
    },
    {
     "name": "stderr",
     "output_type": "stream",
     "text": [
      "\n",
      "[notice] A new release of pip is available: 23.3.1 -> 24.0\n",
      "[notice] To update, run: python.exe -m pip install --upgrade pip\n"
     ]
    },
    {
     "name": "stdout",
     "output_type": "stream",
     "text": [
      "Requirement already satisfied: timm in c:\\users\\usuariolocal\\.conda\\envs\\testemestrdouglas\\lib\\site-packages (0.9.16)\n",
      "Requirement already satisfied: torch in c:\\users\\usuariolocal\\.conda\\envs\\testemestrdouglas\\lib\\site-packages (from timm) (2.2.1+cu118)\n",
      "Requirement already satisfied: torchvision in c:\\users\\usuariolocal\\.conda\\envs\\testemestrdouglas\\lib\\site-packages (from timm) (0.17.1+cu118)\n",
      "Requirement already satisfied: pyyaml in c:\\users\\usuariolocal\\.conda\\envs\\testemestrdouglas\\lib\\site-packages (from timm) (6.0.1)\n",
      "Requirement already satisfied: huggingface_hub in c:\\users\\usuariolocal\\.conda\\envs\\testemestrdouglas\\lib\\site-packages (from timm) (0.21.4)\n",
      "Requirement already satisfied: safetensors in c:\\users\\usuariolocal\\.conda\\envs\\testemestrdouglas\\lib\\site-packages (from timm) (0.4.2)\n",
      "Requirement already satisfied: filelock in c:\\users\\usuariolocal\\.conda\\envs\\testemestrdouglas\\lib\\site-packages (from huggingface_hub->timm) (3.9.0)\n",
      "Requirement already satisfied: fsspec>=2023.5.0 in c:\\users\\usuariolocal\\.conda\\envs\\testemestrdouglas\\lib\\site-packages (from huggingface_hub->timm) (2024.2.0)\n",
      "Requirement already satisfied: requests in c:\\users\\usuariolocal\\appdata\\roaming\\python\\python310\\site-packages (from huggingface_hub->timm) (2.31.0)\n",
      "Requirement already satisfied: tqdm>=4.42.1 in c:\\users\\usuariolocal\\.conda\\envs\\testemestrdouglas\\lib\\site-packages (from huggingface_hub->timm) (4.66.2)\n",
      "Requirement already satisfied: typing-extensions>=3.7.4.3 in c:\\users\\usuariolocal\\.conda\\envs\\testemestrdouglas\\lib\\site-packages (from huggingface_hub->timm) (4.10.0)\n",
      "Requirement already satisfied: packaging>=20.9 in c:\\users\\usuariolocal\\.conda\\envs\\testemestrdouglas\\lib\\site-packages (from huggingface_hub->timm) (24.0)\n",
      "Requirement already satisfied: sympy in c:\\users\\usuariolocal\\.conda\\envs\\testemestrdouglas\\lib\\site-packages (from torch->timm) (1.12)\n",
      "Requirement already satisfied: networkx in c:\\users\\usuariolocal\\.conda\\envs\\testemestrdouglas\\lib\\site-packages (from torch->timm) (3.2.1)\n",
      "Requirement already satisfied: jinja2 in c:\\users\\usuariolocal\\.conda\\envs\\testemestrdouglas\\lib\\site-packages (from torch->timm) (3.1.2)\n",
      "Requirement already satisfied: numpy in c:\\users\\usuariolocal\\.conda\\envs\\testemestrdouglas\\lib\\site-packages (from torchvision->timm) (1.26.4)\n",
      "Requirement already satisfied: pillow!=8.3.*,>=5.3.0 in c:\\users\\usuariolocal\\appdata\\roaming\\python\\python310\\site-packages (from torchvision->timm) (10.1.0)\n",
      "Requirement already satisfied: colorama in c:\\users\\usuariolocal\\.conda\\envs\\testemestrdouglas\\lib\\site-packages (from tqdm>=4.42.1->huggingface_hub->timm) (0.4.6)\n",
      "Requirement already satisfied: MarkupSafe>=2.0 in c:\\users\\usuariolocal\\.conda\\envs\\testemestrdouglas\\lib\\site-packages (from jinja2->torch->timm) (2.1.3)\n",
      "Requirement already satisfied: charset-normalizer<4,>=2 in c:\\users\\usuariolocal\\appdata\\roaming\\python\\python310\\site-packages (from requests->huggingface_hub->timm) (3.3.2)\n",
      "Requirement already satisfied: idna<4,>=2.5 in c:\\users\\usuariolocal\\appdata\\roaming\\python\\python310\\site-packages (from requests->huggingface_hub->timm) (3.6)\n",
      "Requirement already satisfied: urllib3<3,>=1.21.1 in c:\\users\\usuariolocal\\.conda\\envs\\testemestrdouglas\\lib\\site-packages (from requests->huggingface_hub->timm) (2.2.1)\n",
      "Requirement already satisfied: certifi>=2017.4.17 in c:\\users\\usuariolocal\\appdata\\roaming\\python\\python310\\site-packages (from requests->huggingface_hub->timm) (2023.11.17)\n",
      "Requirement already satisfied: mpmath>=0.19 in c:\\users\\usuariolocal\\.conda\\envs\\testemestrdouglas\\lib\\site-packages (from sympy->torch->timm) (1.3.0)\n",
      "Note: you may need to restart the kernel to use updated packages.\n"
     ]
    },
    {
     "name": "stderr",
     "output_type": "stream",
     "text": [
      "\n",
      "[notice] A new release of pip is available: 23.3.1 -> 24.0\n",
      "[notice] To update, run: python.exe -m pip install --upgrade pip\n"
     ]
    },
    {
     "name": "stdout",
     "output_type": "stream",
     "text": [
      "Requirement already satisfied: opencv-python in c:\\users\\usuariolocal\\.conda\\envs\\testemestrdouglas\\lib\\site-packages (4.9.0.80)\n",
      "Requirement already satisfied: numpy>=1.21.2 in c:\\users\\usuariolocal\\.conda\\envs\\testemestrdouglas\\lib\\site-packages (from opencv-python) (1.26.4)\n",
      "Note: you may need to restart the kernel to use updated packages.\n"
     ]
    },
    {
     "name": "stderr",
     "output_type": "stream",
     "text": [
      "\n",
      "[notice] A new release of pip is available: 23.3.1 -> 24.0\n",
      "[notice] To update, run: python.exe -m pip install --upgrade pip\n"
     ]
    },
    {
     "name": "stdout",
     "output_type": "stream",
     "text": [
      "Requirement already satisfied: torchsummary in c:\\users\\usuariolocal\\.conda\\envs\\testemestrdouglas\\lib\\site-packages (1.5.1)\n",
      "Note: you may need to restart the kernel to use updated packages.\n"
     ]
    },
    {
     "name": "stderr",
     "output_type": "stream",
     "text": [
      "\n",
      "[notice] A new release of pip is available: 23.3.1 -> 24.0\n",
      "[notice] To update, run: python.exe -m pip install --upgrade pip\n"
     ]
    },
    {
     "name": "stdout",
     "output_type": "stream",
     "text": [
      "Requirement already satisfied: scipy in c:\\users\\usuariolocal\\.conda\\envs\\testemestrdouglas\\lib\\site-packages (1.12.0)Note: you may need to restart the kernel to use updated packages.\n",
      "\n",
      "Requirement already satisfied: numpy<1.29.0,>=1.22.4 in c:\\users\\usuariolocal\\.conda\\envs\\testemestrdouglas\\lib\\site-packages (from scipy) (1.26.4)\n"
     ]
    },
    {
     "name": "stderr",
     "output_type": "stream",
     "text": [
      "\n",
      "[notice] A new release of pip is available: 23.3.1 -> 24.0\n",
      "[notice] To update, run: python.exe -m pip install --upgrade pip\n"
     ]
    },
    {
     "name": "stdout",
     "output_type": "stream",
     "text": [
      "Requirement already satisfied: ttach in c:\\users\\usuariolocal\\.conda\\envs\\testemestrdouglas\\lib\\site-packages (0.0.3)\n",
      "Note: you may need to restart the kernel to use updated packages.\n"
     ]
    },
    {
     "name": "stderr",
     "output_type": "stream",
     "text": [
      "\n",
      "[notice] A new release of pip is available: 23.3.1 -> 24.0\n",
      "[notice] To update, run: python.exe -m pip install --upgrade pip\n"
     ]
    },
    {
     "name": "stdout",
     "output_type": "stream",
     "text": [
      "Requirement already satisfied: oauthlib in c:\\users\\usuariolocal\\.conda\\envs\\testemestrdouglas\\lib\\site-packages (3.2.2)Note: you may need to restart the kernel to use updated packages.\n",
      "\n"
     ]
    },
    {
     "name": "stderr",
     "output_type": "stream",
     "text": [
      "\n",
      "[notice] A new release of pip is available: 23.3.1 -> 24.0\n",
      "[notice] To update, run: python.exe -m pip install --upgrade pip\n"
     ]
    },
    {
     "name": "stdout",
     "output_type": "stream",
     "text": [
      "Requirement already satisfied: cryptography in c:\\users\\usuariolocal\\.conda\\envs\\testemestrdouglas\\lib\\site-packages (42.0.5)\n",
      "Requirement already satisfied: cffi>=1.12 in c:\\users\\usuariolocal\\.conda\\envs\\testemestrdouglas\\lib\\site-packages (from cryptography) (1.16.0)\n",
      "Requirement already satisfied: pycparser in c:\\users\\usuariolocal\\.conda\\envs\\testemestrdouglas\\lib\\site-packages (from cffi>=1.12->cryptography) (2.21)\n",
      "Note: you may need to restart the kernel to use updated packages.\n"
     ]
    },
    {
     "name": "stderr",
     "output_type": "stream",
     "text": [
      "\n",
      "[notice] A new release of pip is available: 23.3.1 -> 24.0\n",
      "[notice] To update, run: python.exe -m pip install --upgrade pip\n"
     ]
    }
   ],
   "source": [
    "%pip install tensorboardX\n",
    "%pip install torch torchvision torchaudio --index-url https://download.pytorch.org/whl/cu118\n",
    "%pip install timm\n",
    "%pip install opencv-python\n",
    "%pip install torchsummary\n",
    "%pip install scipy\n",
    "%pip install ttach\n",
    "%pip install oauthlib\n",
    "%pip install cryptography"
   ]
  },
  {
   "cell_type": "markdown",
   "metadata": {},
   "source": [
    "Script that uses image masks - Multiple Instance Learning (MIL)"
   ]
  },
  {
   "cell_type": "code",
   "execution_count": 11,
   "metadata": {},
   "outputs": [],
   "source": [
    "!python MIL_train.py --model_idx ViT_SIViT_RockModel --data_augmentation_mode 2 --edge_size 384 --batch_size 4 --patch_size 32 --lr 0.00001 --lrf 0.05 --enable_tensorboard --check_minibatch 5 --dataroot sample_datasets/warwick_MIL --model_path saved_models --draw_root runs  "
   ]
  },
  {
   "cell_type": "markdown",
   "metadata": {},
   "source": [
    "MIL Model Test Script"
   ]
  },
  {
   "cell_type": "code",
   "execution_count": null,
   "metadata": {},
   "outputs": [
    {
     "name": "stdout",
     "output_type": "stream",
     "text": [
      "*********************************setting*************************************\n",
      "Namespace(model_idx='ViT_Modelo_Rochas', shuffle_MIL_off=False, CLS_MIL_off=False, shuffle_dataloader=False, MIL_Stripe=False, Pre_Trained_model_path=None, gpu_idx=0, dataroot='sample_datasets/warwick_MIL', model_path='saved_models', draw_root='runs', data_augmentation_mode=2, paint=True, enable_notify=False, enable_tensorboard=False, enable_attention_check=False, enable_visualize_check=False, shuffle_attention_check=False, edge_size=384, batch_size=1, patch_size=32, check_minibatch=5, CLS_MIL_head_weight=1.0, MIL_head_weight=1.0)\n",
      "GPU: 0\n",
      "model loaded\n",
      "model : ViT_Modelo_Rochas\n",
      "Epoch: Test\n",
      "----------\n",
      "Epoch: test     test index of 5 minibatch: 1      time used: 20.679765701293945\n",
      "minibatch AVG loss: 55.03481674194336\n",
      "Epoch: test     test index of 5 minibatch: 2      time used: 18.377360105514526\n",
      "minibatch AVG loss: 56.52695007324219\n",
      "\n",
      "Epoch:  test \n",
      "Loss: 55.5257  Acc: 91.6667\n",
      "granite-blackswan precision: 100.0000  recall: 100.0000\n",
      "granite-blackswan sensitivity: 100.0000  specificity: 100.0000\n",
      "granite-blackswan FPR: 0.0000  NPV: 100.0000\n",
      "granite-blackswan TP: 3.0\n",
      "granite-blackswan TN: 9.0\n",
      "granite-blackswan FP: 0.0\n",
      "granite-blackswan FN: 0.0\n",
      "marble-shadow precision: 75.0000  recall: 100.0000\n",
      "marble-shadow sensitivity: 100.0000  specificity: 88.8889\n",
      "marble-shadow FPR: 11.1111  NPV: 100.0000\n",
      "marble-shadow TP: 3.0\n",
      "marble-shadow TN: 8.0\n",
      "marble-shadow FP: 1.0\n",
      "marble-shadow FN: 0.0\n",
      "quartzite-oceanblue precision: 100.0000  recall: 66.6667\n",
      "quartzite-oceanblue sensitivity: 66.6667  specificity: 100.0000\n",
      "quartzite-oceanblue FPR: 0.0000  NPV: 90.0000\n",
      "quartzite-oceanblue TP: 2.0\n",
      "quartzite-oceanblue TN: 9.0\n",
      "quartzite-oceanblue FP: 0.0\n",
      "quartzite-oceanblue FN: 1.0\n",
      "quartzite-patagonia precision: 100.0000  recall: 100.0000\n",
      "quartzite-patagonia sensitivity: 100.0000  specificity: 100.0000\n",
      "quartzite-patagonia FPR: 0.0000  NPV: 100.0000\n",
      "quartzite-patagonia TP: 3.0\n",
      "quartzite-patagonia TN: 9.0\n",
      "quartzite-patagonia FP: 0.0\n",
      "quartzite-patagonia FN: 0.0\n",
      "\n",
      "\n",
      "Testing complete in 0m 47s\n"
     ]
    }
   ],
   "source": [
    "!python MIL_test.py --model_idx ViT_SIViT_RockModel --data_augmentation_mode 2 --edge_size 384 --batch_size 1 --patch_size 32  --check_minibatch 5 --dataroot sample_datasets/warwick_MIL --model_path saved_models --draw_root runs"
   ]
  }
 ],
 "metadata": {
  "kernelspec": {
   "display_name": "envvscode",
   "language": "python",
   "name": "python3"
  },
  "language_info": {
   "codemirror_mode": {
    "name": "ipython",
    "version": 3
   },
   "file_extension": ".py",
   "mimetype": "text/x-python",
   "name": "python",
   "nbconvert_exporter": "python",
   "pygments_lexer": "ipython3",
   "version": "3.10.7"
  }
 },
 "nbformat": 4,
 "nbformat_minor": 2
}
